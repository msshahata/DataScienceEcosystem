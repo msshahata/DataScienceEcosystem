{
 "cells": [
  {
   "cell_type": "markdown",
   "id": "60504c75",
   "metadata": {},
   "source": [
    "# Data Science Tools and Ecosystem"
   ]
  },
  {
   "cell_type": "markdown",
   "id": "d4362bff",
   "metadata": {},
   "source": [
    "#### In this notebook, Data science tools and ecosystem are summarized."
   ]
  },
  {
   "cell_type": "markdown",
   "id": "069529fd",
   "metadata": {},
   "source": [
    "**Objectives** \n",
    "* Python Language\n",
    "* R Language\n",
    "* Julia Language\n",
    "* Scala Language"
   ]
  },
  {
   "cell_type": "markdown",
   "id": "81fbaa4f",
   "metadata": {},
   "source": [
    "#### Some of the popular languages that data scientists use are:\n",
    "1. Python\n",
    "2. R \n",
    "3. Julia"
   ]
  },
  {
   "cell_type": "markdown",
   "id": "21940c40",
   "metadata": {},
   "source": [
    "#### Some of the commonly used libraries used by Data Scientists include:\n",
    "1. Sickit-Learn\n",
    "2. Panda\n",
    "3. Numpy\n",
    "4. Matplotlib"
   ]
  },
  {
   "cell_type": "markdown",
   "id": "4a4f2965",
   "metadata": {},
   "source": [
    "| Data Science Tools |\n",
    "------------------------------\n",
    "| Jupyter  |\n",
    "| R Studio |\n",
    "| Apatch Zeppelin|"
   ]
  },
  {
   "cell_type": "markdown",
   "id": "85aa7730",
   "metadata": {},
   "source": [
    "### Below are a few examples of evaluating artithmetic expressions in python "
   ]
  },
  {
   "cell_type": "code",
   "execution_count": 1,
   "id": "810e2f4b",
   "metadata": {},
   "outputs": [
    {
     "data": {
      "text/plain": [
       "3.3333333333333335"
      ]
     },
     "execution_count": 1,
     "metadata": {},
     "output_type": "execute_result"
    }
   ],
   "source": [
    "# This will convert 200 minutes to hours by dividing by 60\n",
    "200/60"
   ]
  },
  {
   "cell_type": "code",
   "execution_count": 2,
   "id": "815eed27",
   "metadata": {},
   "outputs": [
    {
     "data": {
      "text/plain": [
       "17"
      ]
     },
     "execution_count": 2,
     "metadata": {},
     "output_type": "execute_result"
    }
   ],
   "source": [
    "# This a simple arithmetic expression to mutiply then add integer\n",
    "(3*4)+5\n"
   ]
  },
  {
   "cell_type": "markdown",
   "id": "086da7fc",
   "metadata": {},
   "source": [
    "## Author \n",
    "**Mohamed Shahata**"
   ]
  },
  {
   "cell_type": "code",
   "execution_count": null,
   "id": "94d3ec00",
   "metadata": {},
   "outputs": [],
   "source": []
  }
 ],
 "metadata": {
  "kernelspec": {
   "display_name": "Python 3 (ipykernel)",
   "language": "python",
   "name": "python3"
  },
  "language_info": {
   "codemirror_mode": {
    "name": "ipython",
    "version": 3
   },
   "file_extension": ".py",
   "mimetype": "text/x-python",
   "name": "python",
   "nbconvert_exporter": "python",
   "pygments_lexer": "ipython3",
   "version": "3.11.4"
  }
 },
 "nbformat": 4,
 "nbformat_minor": 5
}
